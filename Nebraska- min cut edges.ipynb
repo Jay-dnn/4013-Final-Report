{
 "cells": [
  {
   "cell_type": "code",
   "execution_count": 1,
   "metadata": {},
   "outputs": [
    {
     "name": "stdout",
     "output_type": "stream",
     "text": [
      "population =  [6129, 9998, 11308, 818, 7547, 15740, 36288, 736, 11055, 614, 36691, 3966, 158840, 36970, 20234, 2538, 3812, 517110, 25241, 5713, 5505, 5217, 9182, 2756, 4500, 6489, 6000, 6274, 824, 763, 8852, 632, 5406, 478, 3821, 2044, 3423, 9188, 9124, 8395, 10435, 32237, 5890, 10939, 46102, 6858, 24326, 20780, 647, 6685, 2049, 1311, 1941, 2773, 2099, 5228, 2908, 690, 4959, 6542, 7845, 3145, 10515, 21006, 460, 5469, 16750, 9595, 8701, 7248, 5042, 58607, 4260, 34876, 3225, 3735, 967, 22311, 13665, 539, 2970, 1526, 285407, 31364, 9139, 2057, 8368, 6940, 7266, 8363, 14200, 3152, 2008]\n"
     ]
    }
   ],
   "source": [
    "# read the text file \"NE.population\" and store in the list called population\n",
    "population = list()\n",
    "\n",
    "# open the text file for reading\n",
    "filepath = \"C:\\\\Users\\\\jayde\\\\Downloads\\\\\"\n",
    "filename = \"NE.population .Copy.txt\"\n",
    "file = open( filepath + filename ,\"r\")\n",
    "\n",
    "# while the current line is not empty, read in a new county population\n",
    "line = file.readline()\n",
    "\n",
    "\n",
    "while line != \"\":\n",
    "    # split the line into two \"words\": \n",
    "    #    word[0]: the county's number\n",
    "    #    word[1]: the county's population\n",
    "    words = line.split() \n",
    "    county_number = words[0]\n",
    "    county_population = int(words[1]) # cast the string as type int\n",
    "    \n",
    "    # append to population list\n",
    "    population.append(county_population)\n",
    "    \n",
    "    # read next line\n",
    "    line = file.readline() \n",
    "\n",
    "file.close()\n",
    "print(\"population = \",population)"
   ]
  },
  {
   "cell_type": "code",
   "execution_count": 3,
   "metadata": {},
   "outputs": [
    {
     "name": "stdout",
     "output_type": "stream",
     "text": [
      "The Nebraska (county) graph has 93 nodes and 231 edges.\n",
      "The Nebraska graph has nodes [0, 41, 62, 67, 73, 84, 1, 34, 52, 57, 70, 85, 2, 13, 22, 51, 65, 3, 15, 20, 40, 49, 50, 72, 4, 55, 77, 90, 5, 18, 21, 69, 82, 6, 23, 29, 43, 46, 76, 79, 80, 86, 7, 9, 19, 48, 64, 8, 56, 58, 10, 14, 17, 39, 45, 47, 11, 92, 12, 27, 75, 91, 16, 24, 25, 59, 74, 83, 28, 33, 61, 53, 35, 42, 37, 44, 26, 30, 63, 87, 60, 71, 54, 81, 68, 88, 31, 32, 38, 78, 36, 66, 89]\n",
      "The Nebraska graph has edges [(0, 41), (0, 62), (0, 67), (0, 73), (0, 84), (41, 20), (41, 32), (41, 39), (41, 60), (41, 62), (41, 73), (41, 75), (62, 10), (62, 39), (62, 84), (67, 26), (67, 30), (67, 84), (67, 87), (67, 88), (73, 20), (73, 49), (73, 88), (84, 10), (84, 45), (84, 87), (1, 34), (1, 52), (1, 57), (1, 70), (1, 85), (34, 57), (52, 80), (52, 85), (52, 86), (57, 13), (57, 70), (70, 2), (70, 13), (70, 65), (70, 85), (85, 9), (85, 64), (85, 65), (85, 86), (2, 13), (2, 22), (2, 51), (2, 65), (13, 51), (22, 51), (22, 65), (65, 9), (65, 19), (3, 15), (3, 20), (3, 40), (3, 49), (3, 50), (3, 72), (15, 20), (15, 27), (15, 72), (15, 75), (15, 91), (20, 49), (20, 75), (40, 31), (40, 49), (40, 50), (40, 54), (40, 68), (40, 81), (49, 68), (49, 88), (50, 31), (50, 43), (50, 72), (72, 43), (72, 91), (4, 55), (4, 77), (4, 90), (55, 24), (55, 42), (77, 21), (77, 53), (77, 82), (77, 90), (90, 42), (90, 66), (90, 82), (5, 18), (5, 21), (5, 69), (5, 82), (18, 12), (18, 47), (18, 82), (21, 53), (21, 69), (69, 53), (69, 89), (82, 39), (82, 47), (82, 66), (6, 23), (6, 29), (6, 43), (6, 46), (6, 76), (6, 79), (6, 80), (6, 86), (23, 8), (23, 35), (23, 46), (23, 56), (23, 58), (23, 76), (29, 33), (29, 43), (29, 48), (29, 79), (43, 31), (43, 33), (43, 44), (43, 46), (43, 91), (46, 35), (46, 37), (46, 44), (76, 11), (76, 56), (76, 80), (76, 92), (79, 7), (79, 48), (79, 64), (79, 86), (80, 11), (80, 86), (86, 64), (7, 9), (7, 19), (7, 48), (7, 64), (9, 19), (9, 64), (19, 28), (19, 33), (19, 48), (19, 61), (48, 33), (8, 56), (8, 58), (56, 92), (58, 35), (58, 36), (58, 37), (10, 14), (10, 17), (10, 39), (10, 45), (10, 47), (14, 17), (14, 45), (17, 12), (17, 47), (39, 32), (39, 47), (39, 66), (45, 87), (47, 12), (11, 92), (27, 44), (27, 60), (27, 71), (27, 75), (27, 91), (75, 60), (91, 44), (16, 24), (16, 25), (16, 59), (16, 74), (16, 83), (24, 42), (24, 59), (25, 37), (25, 44), (25, 74), (25, 83), (59, 38), (59, 42), (59, 78), (59, 83), (74, 36), (83, 38), (83, 44), (83, 71), (28, 54), (28, 61), (28, 81), (33, 31), (33, 61), (61, 31), (61, 81), (53, 89), (35, 37), (42, 78), (37, 36), (37, 44), (44, 71), (26, 30), (26, 63), (26, 87), (30, 68), (30, 88), (63, 87), (60, 32), (60, 38), (60, 71), (71, 38), (54, 68), (81, 31), (68, 88), (32, 38), (32, 78), (38, 78), (78, 66)]\n"
     ]
    }
   ],
   "source": [
    "# Read the Nebraska county graph. It is stored in the file \"Ne.graph\", with edges listed like this:\n",
    "# 0 23 \n",
    "# 0 30 \n",
    "# 0 47 \n",
    "# 0 76 \n",
    "# 1 5 \n",
    "# 1 8 \n",
    "# 1 23 \n",
    "# 1 33 \n",
    "# ...\n",
    "\n",
    "# County-level graphs for all states can be found here:\n",
    "# https://github.com/AustinLBuchanan/county-level-districting/tree/master/data\n",
    "\n",
    "# NetworkX has a built-in function for reading this kind of file\n",
    "import networkx as nx\n",
    "filepath = 'C:\\\\Users\\\\jayde\\\\Downloads\\\\'\n",
    "filename = 'Ne.graph.txt'\n",
    "G = nx.read_edgelist( filepath + filename, nodetype=int )\n",
    "\n",
    "print(\"The Nebraska (county) graph has\",G.number_of_nodes(),\"nodes and\",G.number_of_edges(),\"edges.\")\n",
    "print(\"The Nebraska graph has nodes\",G.nodes)\n",
    "print(\"The Nebraska graph has edges\",G.edges)"
   ]
  },
  {
   "cell_type": "code",
   "execution_count": 4,
   "metadata": {},
   "outputs": [],
   "source": [
    "# We are to solve the following task:\n",
    "# input: a population vector, a graph G=(V,E), desired number of districts k, population lower and upper bounds L and U\n",
    "# output: a partition of the nodes into k districts (not necessarily connected!) \n",
    "#            each with population in [L,U] to minimize the number of \"cut edges\" \n",
    "#\n",
    "# An edge {i,j} from E is cut if its endpoints i and j are assigned to different districts.\n",
    "#\n",
    "# For example, consider the 4x4 grid graph: \n",
    "#\n",
    "#         & - & - & - &\n",
    "#         |   |   |   |\n",
    "#         & - & - & - &\n",
    "#         |   |   |   |\n",
    "#         & - & - & - &\n",
    "#         |   |   |   |\n",
    "#         & - & - & - &\n",
    "#\n",
    "# Here are two ways to split it into 4 equal-size districts:\n",
    "#\n",
    "#         &   &   &   &                & - &   & - &\n",
    "#         |   |   |   |                |   |   |   |\n",
    "#         &   &   &   &                & - &   & - &\n",
    "#         |   |   |   |                             \n",
    "#         &   &   &   &                & - &   & - &\n",
    "#         |   |   |   |                |   |   |   |\n",
    "#         &   &   &   &                & - &   & - &\n",
    "#\n",
    "#          12 cut edges                 8 cut edges\n",
    "#\n",
    "# The plan with 8 cut edges looks more compact.\n",
    "#\n",
    "\n",
    "import gurobipy as gp\n",
    "from gurobipy import GRB"
   ]
  },
  {
   "cell_type": "code",
   "execution_count": 5,
   "metadata": {},
   "outputs": [
    {
     "name": "stdout",
     "output_type": "stream",
     "text": [
      "Using L = 605737 and U = 611824 and k = 3\n"
     ]
    }
   ],
   "source": [
    "# Let's impose a 1% population deviation (+/- 0.5%)\n",
    "deviation = 0.01\n",
    "\n",
    "import math\n",
    "k = 3          # number of districts\n",
    "L = math.ceil((1-deviation/2)*sum(population)/k)\n",
    "U = math.floor((1+deviation/2)*sum(population)/k)\n",
    "print(\"Using L =\",L,\"and U =\",U,\"and k =\",k)"
   ]
  },
  {
   "cell_type": "code",
   "execution_count": 6,
   "metadata": {},
   "outputs": [
    {
     "name": "stdout",
     "output_type": "stream",
     "text": [
      "Academic license - for non-commercial use only - expires 2021-06-22\n",
      "Using license file C:\\Users\\jayde\\gurobi.lic\n"
     ]
    }
   ],
   "source": [
    "# create model \n",
    "m = gp.Model()\n",
    "\n",
    "# create variables\n",
    "x = m.addVars(G.nodes, k, vtype=GRB.BINARY) # x[i,j] equals one when county i is assigned to district j\n",
    "y = m.addVars(G.edges, vtype=GRB.BINARY)  # y[u,v] equals one when edge {u,v} is cut"
   ]
  },
  {
   "cell_type": "code",
   "execution_count": 7,
   "metadata": {},
   "outputs": [],
   "source": [
    "\n",
    "# objective is to minimize cut edges\n",
    "m.setObjective( gp.quicksum( y[u,v] for u,v in G.edges ), GRB.MINIMIZE )"
   ]
  },
  {
   "cell_type": "code",
   "execution_count": 8,
   "metadata": {},
   "outputs": [],
   "source": [
    "\n",
    "# add constraints saying that each county i is assigned to one district\n",
    "m.addConstrs( gp.quicksum(x[i,j] for j in range(k)) == 1 for i in G.nodes)\n",
    "\n",
    "# add constraints saying that each district has population at least L and at most U\n",
    "m.addConstrs( gp.quicksum( population[i] * x[i,j] for i in G.nodes) >= L for j in range(k) )\n",
    "m.addConstrs( gp.quicksum( population[i] * x[i,j] for i in G.nodes) <= U for j in range(k) )\n",
    "\n",
    "# add constraints saying that edge {i,j} is cut if i is assigned to district v but j is not.\n",
    "m.addConstrs( x[i,v] - x[j,v] <= y[i,j] for i,j in G.edges for v in range(k))\n",
    "\n",
    "m.update()"
   ]
  },
  {
   "cell_type": "code",
   "execution_count": 9,
   "metadata": {},
   "outputs": [
    {
     "name": "stdout",
     "output_type": "stream",
     "text": [
      "Gurobi Optimizer version 9.1.2 build v9.1.2rc0 (win64)\n",
      "Thread count: 6 physical cores, 12 logical processors, using up to 12 threads\n",
      "Optimize a model with 792 rows, 510 columns and 2916 nonzeros\n",
      "Model fingerprint: 0xa469c9e1\n",
      "Variable types: 0 continuous, 510 integer (510 binary)\n",
      "Coefficient statistics:\n",
      "  Matrix range     [1e+00, 5e+05]\n",
      "  Objective range  [1e+00, 1e+00]\n",
      "  Bounds range     [1e+00, 1e+00]\n",
      "  RHS range        [1e+00, 6e+05]\n",
      "Found heuristic solution: objective 139.0000000\n",
      "Presolve time: 0.00s\n",
      "Presolved: 792 rows, 510 columns, 2916 nonzeros\n",
      "Variable types: 0 continuous, 510 integer (510 binary)\n",
      "\n",
      "Root relaxation: objective 0.000000e+00, 352 iterations, 0.01 seconds\n",
      "\n",
      "    Nodes    |    Current Node    |     Objective Bounds      |     Work\n",
      " Expl Unexpl |  Obj  Depth IntInf | Incumbent    BestBd   Gap | It/Node Time\n",
      "\n",
      "     0     0    0.00000    0  279  139.00000    0.00000   100%     -    0s\n",
      "H    0     0                      84.0000000    0.00000   100%     -    0s\n",
      "H    0     0                      83.0000000    0.00000   100%     -    0s\n",
      "H    0     0                      67.0000000    0.00000   100%     -    0s\n",
      "     0     0    1.99119    0  284   67.00000    1.99119  97.0%     -    0s\n",
      "H    0     0                      42.0000000    1.99119  95.3%     -    0s\n",
      "H    0     0                      30.0000000    1.99119  93.4%     -    0s\n",
      "     0     0    5.39390    0  291   30.00000    5.39390  82.0%     -    0s\n",
      "     0     0    5.48624    0  290   30.00000    5.48624  81.7%     -    0s\n",
      "     0     0    5.48650    0  290   30.00000    5.48650  81.7%     -    0s\n",
      "     0     0    7.03088    0  292   30.00000    7.03088  76.6%     -    0s\n",
      "     0     0    7.03088    0  292   30.00000    7.03088  76.6%     -    0s\n",
      "     0     2    7.03088    0  292   30.00000    7.03088  76.6%     -    0s\n",
      "H   30    32                      29.0000000    9.85279  66.0%   128    0s\n",
      "H   77    75                      25.0000000    9.85279  60.6%   106    0s\n",
      "H  128    97                      24.0000000    9.85279  58.9%  98.1    0s\n",
      "H  311   178                      22.0000000   12.25522  44.3%  79.9    0s\n",
      "H  355   193                      20.0000000   12.31972  38.4%  78.6    0s\n",
      "H  407   190                      19.0000000   12.31972  35.2%  75.7    0s\n",
      "\n",
      "Cutting planes:\n",
      "  Gomory: 7\n",
      "  Cover: 3\n",
      "  MIR: 1\n",
      "  Flow cover: 2\n",
      "  RLT: 31\n",
      "\n",
      "Explored 1293 nodes (83229 simplex iterations) in 1.80 seconds\n",
      "Thread count was 12 (of 12 available processors)\n",
      "\n",
      "Solution count 10: 19 20 22 ... 83\n",
      "\n",
      "Optimal solution found (tolerance 1.00e-04)\n",
      "Best objective 1.900000000000e+01, best bound 1.900000000000e+01, gap 0.0000%\n"
     ]
    }
   ],
   "source": [
    "# solve IP model\n",
    "m.optimize()"
   ]
  },
  {
   "cell_type": "code",
   "execution_count": 10,
   "metadata": {},
   "outputs": [
    {
     "name": "stdout",
     "output_type": "stream",
     "text": [
      "The number of cut edges is 19.0\n",
      "District 0 has population 606676 and contains counties [0, 62, 84, 10, 14, 17, 45]\n",
      "District 1 has population 609930 and contains counties [4, 55, 77, 90, 5, 18, 21, 69, 82, 39, 47, 12, 53, 42, 66, 89]\n",
      "District 2 has population 609735 and contains counties [41, 67, 73, 1, 34, 52, 57, 70, 85, 2, 13, 22, 51, 65, 3, 15, 20, 40, 49, 50, 72, 6, 23, 29, 43, 46, 76, 79, 80, 86, 7, 9, 19, 48, 64, 8, 56, 58, 11, 92, 27, 75, 91, 16, 24, 25, 59, 74, 83, 28, 33, 61, 35, 37, 44, 26, 30, 63, 87, 60, 71, 54, 81, 68, 88, 31, 32, 38, 78, 36]\n"
     ]
    }
   ],
   "source": [
    "# print the number of cut edges\n",
    "print(\"The number of cut edges is\",m.objval)\n",
    "\n",
    "# retrieve the districts and their populations\n",
    "districts = [ [i for i in G.nodes if x[i,j].x > 0.5] for j in range(k)]\n",
    "district_populations = [ sum(population[i] for i in district) for district in districts ]\n",
    "\n",
    "# print district info\n",
    "for j in range(k):\n",
    "    print(\"District\",j,\"has population\",district_populations[j],\"and contains counties\",districts[j])"
   ]
  },
  {
   "cell_type": "code",
   "execution_count": 11,
   "metadata": {},
   "outputs": [
    {
     "name": "stdout",
     "output_type": "stream",
     "text": [
      "Is district 0 connected? True\n",
      "Is district 1 connected? True\n",
      "Is district 2 connected? True\n"
     ]
    }
   ],
   "source": [
    "# check if the districts are connected\n",
    "for j in range(k):\n",
    "    print(\"Is district\",j,\"connected?\", nx.is_connected( G.subgraph( districts[j] ) ) )"
   ]
  },
  {
   "cell_type": "code",
   "execution_count": null,
   "metadata": {},
   "outputs": [],
   "source": []
  }
 ],
 "metadata": {
  "kernelspec": {
   "display_name": "Python 3",
   "language": "python",
   "name": "python3"
  },
  "language_info": {
   "codemirror_mode": {
    "name": "ipython",
    "version": 3
   },
   "file_extension": ".py",
   "mimetype": "text/x-python",
   "name": "python",
   "nbconvert_exporter": "python",
   "pygments_lexer": "ipython3",
   "version": "3.8.5"
  }
 },
 "nbformat": 4,
 "nbformat_minor": 4
}
