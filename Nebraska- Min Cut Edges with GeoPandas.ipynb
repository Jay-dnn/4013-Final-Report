{
 "cells": [
  {
   "cell_type": "code",
   "execution_count": 4,
   "metadata": {},
   "outputs": [],
   "source": [
    "from gerrychain import Graph"
   ]
  },
  {
   "cell_type": "code",
   "execution_count": 5,
   "metadata": {},
   "outputs": [],
   "source": [
    "# Read Nebraska county graph from the json file \"NE.county.json\"\n",
    "filepath = 'C:\\\\Users\\\\jayde\\\\Downloads\\\\'\n",
    "filename = 'NE.county.json'\n",
    "\n",
    "# GerryChain has a built-in function for reading graphs of this type:\n",
    "G = Graph.from_json( filepath + filename )"
   ]
  },
  {
   "cell_type": "code",
   "execution_count": 6,
   "metadata": {},
   "outputs": [
    {
     "name": "stdout",
     "output_type": "stream",
     "text": [
      "Node 0 represents Burt County and its population in year 2010 was 6858\n",
      "Node 1 represents Dawson County and its population in year 2010 was 24326\n",
      "Node 2 represents Saunders County and its population in year 2010 was 20780\n",
      "Node 3 represents Thomas County and its population in year 2010 was 647\n",
      "Node 4 represents Antelope County and its population in year 2010 was 6685\n",
      "Node 5 represents Garfield County and its population in year 2010 was 2049\n",
      "Node 6 represents Sioux County and its population in year 2010 was 1311\n",
      "Node 7 represents Deuel County and its population in year 2010 was 1941\n",
      "Node 8 represents Pawnee County and its population in year 2010 was 2773\n",
      "Node 9 represents Boyd County and its population in year 2010 was 2099\n",
      "Node 10 represents Thayer County and its population in year 2010 was 5228\n",
      "Node 11 represents Hitchcock County and its population in year 2010 was 2908\n",
      "Node 12 represents Banner County and its population in year 2010 was 690\n",
      "Node 13 represents Furnas County and its population in year 2010 was 4959\n",
      "Node 14 represents Clay County and its population in year 2010 was 6542\n",
      "Node 15 represents Merrick County and its population in year 2010 was 7845\n",
      "Node 16 represents Brown County and its population in year 2010 was 3145\n",
      "Node 17 represents Colfax County and its population in year 2010 was 10515\n",
      "Node 18 represents Dakota County and its population in year 2010 was 21006\n",
      "Node 19 represents Arthur County and its population in year 2010 was 460\n",
      "Node 20 represents Sheridan County and its population in year 2010 was 5469\n",
      "Node 21 represents Seward County and its population in year 2010 was 16750\n",
      "Node 22 represents Wayne County and its population in year 2010 was 9595\n",
      "Node 23 represents Cuming County and its population in year 2010 was 9139\n",
      "Node 24 represents Garden County and its population in year 2010 was 2057\n",
      "Node 25 represents Keith County and its population in year 2010 was 8368\n",
      "Node 26 represents Thurston County and its population in year 2010 was 6940\n",
      "Node 27 represents Pierce County and its population in year 2010 was 7266\n",
      "Node 28 represents Richardson County and its population in year 2010 was 8363\n",
      "Node 29 represents Saline County and its population in year 2010 was 14200\n",
      "Node 30 represents Sherman County and its population in year 2010 was 3152\n",
      "Node 31 represents Dundy County and its population in year 2010 was 2008\n",
      "Node 32 represents Stanton County and its population in year 2010 was 6129\n",
      "Node 33 represents Cheyenne County and its population in year 2010 was 9998\n",
      "Node 34 represents Box Butte County and its population in year 2010 was 11308\n",
      "Node 35 represents Wheeler County and its population in year 2010 was 818\n",
      "Node 36 represents Jefferson County and its population in year 2010 was 7547\n",
      "Node 37 represents Otoe County and its population in year 2010 was 15740\n",
      "Node 38 represents Lincoln County and its population in year 2010 was 36288\n",
      "Node 39 represents Hooker County and its population in year 2010 was 736\n",
      "Node 40 represents Red Willow County and its population in year 2010 was 11055\n",
      "Node 41 represents Grant County and its population in year 2010 was 614\n",
      "Node 42 represents Dodge County and its population in year 2010 was 36691\n",
      "Node 43 represents Chase County and its population in year 2010 was 3966\n",
      "Node 44 represents Sarpy County and its population in year 2010 was 158840\n",
      "Node 45 represents Scotts Bluff County and its population in year 2010 was 36970\n",
      "Node 46 represents Washington County and its population in year 2010 was 20234\n",
      "Node 47 represents Greeley County and its population in year 2010 was 2538\n",
      "Node 48 represents Webster County and its population in year 2010 was 3812\n",
      "Node 49 represents Douglas County and its population in year 2010 was 517110\n",
      "Node 50 represents Cass County and its population in year 2010 was 25241\n",
      "Node 51 represents Cherry County and its population in year 2010 was 5713\n",
      "Node 52 represents Boone County and its population in year 2010 was 5505\n",
      "Node 53 represents Johnson County and its population in year 2010 was 5217\n",
      "Node 54 represents Dawes County and its population in year 2010 was 9182\n",
      "Node 55 represents Frontier County and its population in year 2010 was 2756\n",
      "Node 56 represents Nuckolls County and its population in year 2010 was 4500\n",
      "Node 57 represents Kearney County and its population in year 2010 was 6489\n",
      "Node 58 represents Dixon County and its population in year 2010 was 6000\n",
      "Node 59 represents Howard County and its population in year 2010 was 6274\n",
      "Node 60 represents Keya Paha County and its population in year 2010 was 824\n",
      "Node 61 represents Logan County and its population in year 2010 was 763\n",
      "Node 62 represents Cedar County and its population in year 2010 was 8852\n",
      "Node 63 represents Loup County and its population in year 2010 was 632\n",
      "Node 64 represents Polk County and its population in year 2010 was 5406\n",
      "Node 65 represents Blaine County and its population in year 2010 was 478\n",
      "Node 66 represents Kimball County and its population in year 2010 was 3821\n",
      "Node 67 represents Gosper County and its population in year 2010 was 2044\n",
      "Node 68 represents Harlan County and its population in year 2010 was 3423\n",
      "Node 69 represents Phelps County and its population in year 2010 was 9188\n",
      "Node 70 represents Hamilton County and its population in year 2010 was 9124\n",
      "Node 71 represents Butler County and its population in year 2010 was 8395\n",
      "Node 72 represents Knox County and its population in year 2010 was 8701\n",
      "Node 73 represents Nemaha County and its population in year 2010 was 7248\n",
      "Node 74 represents Morrill County and its population in year 2010 was 5042\n",
      "Node 75 represents Hall County and its population in year 2010 was 58607\n",
      "Node 76 represents Valley County and its population in year 2010 was 4260\n",
      "Node 77 represents Madison County and its population in year 2010 was 34876\n",
      "Node 78 represents Franklin County and its population in year 2010 was 3225\n",
      "Node 79 represents Nance County and its population in year 2010 was 3735\n",
      "Node 80 represents Hayes County and its population in year 2010 was 967\n",
      "Node 81 represents Gage County and its population in year 2010 was 22311\n",
      "Node 82 represents York County and its population in year 2010 was 13665\n",
      "Node 83 represents McPherson County and its population in year 2010 was 539\n",
      "Node 84 represents Perkins County and its population in year 2010 was 2970\n",
      "Node 85 represents Rock County and its population in year 2010 was 1526\n",
      "Node 86 represents Lancaster County and its population in year 2010 was 285407\n",
      "Node 87 represents Adams County and its population in year 2010 was 31364\n",
      "Node 88 represents Holt County and its population in year 2010 was 10435\n",
      "Node 89 represents Platte County and its population in year 2010 was 32237\n",
      "Node 90 represents Fillmore County and its population in year 2010 was 5890\n",
      "Node 91 represents Custer County and its population in year 2010 was 10939\n",
      "Node 92 represents Buffalo County and its population in year 2010 was 46102\n"
     ]
    }
   ],
   "source": [
    "# For each node, print the node #, county name, and its population\n",
    "for node in G.nodes:\n",
    "    name = G.nodes[node][\"NAME10\"]\n",
    "    population = G.nodes[node]['TOTPOP']\n",
    "    print(\"Node\",node,\"represents\",name,\"County and its population in year 2010 was\",population)"
   ]
  },
  {
   "cell_type": "code",
   "execution_count": 7,
   "metadata": {},
   "outputs": [
    {
     "name": "stdout",
     "output_type": "stream",
     "text": [
      "Using L = 605737 and U = 611824 and k = 3\n"
     ]
    }
   ],
   "source": [
    "# Let's impose a 1% population deviation (+/- 0.5%)\n",
    "deviation = 0.01\n",
    "\n",
    "import math\n",
    "k = 3          # number of districts\n",
    "total_population = sum(G.nodes[node]['TOTPOP'] for node in G.nodes)\n",
    "\n",
    "L = math.ceil((1-deviation/2)*total_population/k)\n",
    "U = math.floor((1+deviation/2)*total_population/k)\n",
    "print(\"Using L =\",L,\"and U =\",U,\"and k =\",k)"
   ]
  },
  {
   "cell_type": "code",
   "execution_count": 8,
   "metadata": {},
   "outputs": [
    {
     "name": "stdout",
     "output_type": "stream",
     "text": [
      "Academic license - for non-commercial use only - expires 2021-06-22\n",
      "Using license file C:\\Users\\jayde\\gurobi.lic\n"
     ]
    }
   ],
   "source": [
    "import gurobipy as gp\n",
    "from gurobipy import GRB\n",
    "\n",
    "# create model \n",
    "m = gp.Model()\n",
    "\n",
    "# create variables\n",
    "x = m.addVars(G.nodes, k, vtype=GRB.BINARY) # x[i,j] equals one when county i is assigned to district j\n",
    "y = m.addVars(G.edges, vtype=GRB.BINARY)  # y[u,v] equals one when edge {u,v} is cut"
   ]
  },
  {
   "cell_type": "code",
   "execution_count": 9,
   "metadata": {},
   "outputs": [],
   "source": [
    "# objective is to minimize cut edges\n",
    "m.setObjective( gp.quicksum( y[u,v] for u,v in G.edges ), GRB.MINIMIZE )"
   ]
  },
  {
   "cell_type": "code",
   "execution_count": 10,
   "metadata": {},
   "outputs": [],
   "source": [
    "# add constraints saying that each county i is assigned to one district\n",
    "m.addConstrs( gp.quicksum(x[i,j] for j in range(k)) == 1 for i in G.nodes)\n",
    "\n",
    "# add constraints saying that each district has population at least L and at most U\n",
    "m.addConstrs( gp.quicksum( G.nodes[i]['TOTPOP'] * x[i,j] for i in G.nodes) >= L for j in range(k) )\n",
    "m.addConstrs( gp.quicksum( G.nodes[i]['TOTPOP'] * x[i,j] for i in G.nodes) <= U for j in range(k) )\n",
    "\n",
    "# add constraints saying that edge {i,j} is cut if i is assigned to district v but j is not.\n",
    "m.addConstrs( x[i,v] - x[j,v] <= y[i,j] for i,j in G.edges for v in range(k))\n",
    "\n",
    "m.update()"
   ]
  },
  {
   "cell_type": "code",
   "execution_count": 11,
   "metadata": {},
   "outputs": [
    {
     "name": "stdout",
     "output_type": "stream",
     "text": [
      "Gurobi Optimizer version 9.1.2 build v9.1.2rc0 (win64)\n",
      "Thread count: 6 physical cores, 12 logical processors, using up to 12 threads\n",
      "Optimize a model with 792 rows, 510 columns and 2916 nonzeros\n",
      "Model fingerprint: 0x0a7666fb\n",
      "Variable types: 0 continuous, 510 integer (510 binary)\n",
      "Coefficient statistics:\n",
      "  Matrix range     [1e+00, 5e+05]\n",
      "  Objective range  [1e+00, 1e+00]\n",
      "  Bounds range     [1e+00, 1e+00]\n",
      "  RHS range        [1e+00, 6e+05]\n",
      "Found heuristic solution: objective 142.0000000\n",
      "Presolve time: 0.00s\n",
      "Presolved: 792 rows, 510 columns, 2916 nonzeros\n",
      "Variable types: 0 continuous, 510 integer (510 binary)\n",
      "\n",
      "Root relaxation: objective 0.000000e+00, 372 iterations, 0.01 seconds\n",
      "\n",
      "    Nodes    |    Current Node    |     Objective Bounds      |     Work\n",
      " Expl Unexpl |  Obj  Depth IntInf | Incumbent    BestBd   Gap | It/Node Time\n",
      "\n",
      "     0     0    0.00000    0  279  142.00000    0.00000   100%     -    0s\n",
      "H    0     0                      77.0000000    0.00000   100%     -    0s\n",
      "H    0     0                      61.0000000    0.00000   100%     -    0s\n",
      "     0     0    1.95328    0  284   61.00000    1.95328  96.8%     -    0s\n",
      "H    0     0                      50.0000000    1.95328  96.1%     -    0s\n",
      "     0     0    4.27443    0  285   50.00000    4.27443  91.5%     -    0s\n",
      "     0     0    4.33241    0  288   50.00000    4.33241  91.3%     -    0s\n",
      "     0     0    4.33333    0  283   50.00000    4.33333  91.3%     -    0s\n",
      "     0     0    5.19863    0  283   50.00000    5.19863  89.6%     -    0s\n",
      "     0     0    5.99303    0  283   50.00000    5.99303  88.0%     -    0s\n",
      "     0     2    5.99303    0  283   50.00000    5.99303  88.0%     -    0s\n",
      "H   52    56                      39.0000000    6.60634  83.1%   157    0s\n",
      "H   54    56                      37.0000000    6.60634  82.1%   153    0s\n",
      "H   71    81                      24.0000000    6.60634  72.5%   156    0s\n",
      "H  201   148                      21.0000000    6.60634  68.5%   109    0s\n",
      "H  439   214                      20.0000000   11.63495  41.8%  92.4    1s\n",
      "*  940   330              25      19.0000000   13.23921  30.3%  78.5    1s\n",
      "\n",
      "Cutting planes:\n",
      "  Gomory: 2\n",
      "  Cover: 3\n",
      "  Clique: 1\n",
      "  MIR: 1\n",
      "  StrongCG: 1\n",
      "  RLT: 7\n",
      "\n",
      "Explored 2542 nodes (175613 simplex iterations) in 3.08 seconds\n",
      "Thread count was 12 (of 12 available processors)\n",
      "\n",
      "Solution count 10: 19 20 21 ... 142\n",
      "\n",
      "Optimal solution found (tolerance 1.00e-04)\n",
      "Best objective 1.900000000000e+01, best bound 1.900000000000e+01, gap 0.0000%\n"
     ]
    }
   ],
   "source": [
    "# solve IP model\n",
    "m.optimize()"
   ]
  },
  {
   "cell_type": "code",
   "execution_count": 12,
   "metadata": {},
   "outputs": [
    {
     "name": "stdout",
     "output_type": "stream",
     "text": [
      "The number of cut edges is 19.0\n",
      "District 0 has population 608839 and contains counties ['Burt', 'Dakota', 'Thurston', 'Dodge', 'Washington', 'Douglas']\n",
      "District 1 has population 608175 and contains counties ['Dawson', 'Thomas', 'Antelope', 'Garfield', 'Sioux', 'Deuel', 'Boyd', 'Thayer', 'Hitchcock', 'Banner', 'Furnas', 'Clay', 'Merrick', 'Brown', 'Arthur', 'Sheridan', 'Wayne', 'Cuming', 'Garden', 'Keith', 'Pierce', 'Sherman', 'Dundy', 'Stanton', 'Cheyenne', 'Box Butte', 'Wheeler', 'Lincoln', 'Hooker', 'Red Willow', 'Grant', 'Chase', 'Scotts Bluff', 'Greeley', 'Webster', 'Cherry', 'Boone', 'Dawes', 'Frontier', 'Nuckolls', 'Kearney', 'Dixon', 'Howard', 'Keya Paha', 'Logan', 'Cedar', 'Loup', 'Polk', 'Blaine', 'Kimball', 'Gosper', 'Harlan', 'Phelps', 'Hamilton', 'Knox', 'Morrill', 'Hall', 'Valley', 'Madison', 'Franklin', 'Nance', 'Hayes', 'York', 'McPherson', 'Perkins', 'Rock', 'Adams', 'Holt', 'Platte', 'Fillmore', 'Custer', 'Buffalo']\n",
      "District 2 has population 609327 and contains counties ['Saunders', 'Pawnee', 'Colfax', 'Seward', 'Richardson', 'Saline', 'Jefferson', 'Otoe', 'Sarpy', 'Cass', 'Johnson', 'Butler', 'Nemaha', 'Gage', 'Lancaster']\n"
     ]
    }
   ],
   "source": [
    "print(\"The number of cut edges is\",m.objval)\n",
    "\n",
    "# retrieve the districts and their populations\n",
    "districts = [ [i for i in G.nodes if x[i,j].x > 0.5] for j in range(k)]\n",
    "district_counties = [ [ G.nodes[i][\"NAME10\"] for i in districts[j] ] for j in range(k)]\n",
    "district_populations = [ sum(G.nodes[i][\"TOTPOP\"] for i in districts[j]) for j in range(k) ]\n",
    "\n",
    "# print district info\n",
    "for j in range(k):\n",
    "    print(\"District\",j,\"has population\",district_populations[j],\"and contains counties\",district_counties[j])"
   ]
  },
  {
   "cell_type": "code",
   "execution_count": 13,
   "metadata": {},
   "outputs": [],
   "source": [
    "# Let's draw it on a map\n",
    "import geopandas as gpd"
   ]
  },
  {
   "cell_type": "code",
   "execution_count": 14,
   "metadata": {},
   "outputs": [],
   "source": [
    "# Read Nebraska county shapefile from \"NE.counties.shp.shp\"\n",
    "filepath = 'C:\\\\Users\\\\jayde\\\\Downloads\\\\'\n",
    "filename = 'NE_counties.shp'\n",
    "\n",
    "# Read geopandas dataframe from file\n",
    "df = gpd.read_file( filepath + filename )"
   ]
  },
  {
   "cell_type": "code",
   "execution_count": 15,
   "metadata": {},
   "outputs": [
    {
     "data": {
      "image/png": "[encoded data removed]",
      "text/plain": [
       "<Figure size 432x288 with 1 Axes>"
      ]
     },
     "metadata": {
      "needs_background": "light"
     },
     "output_type": "display_data"
    }
   ],
   "source": [
    "# Which district is each county assigned to?\n",
    "assignment = [ -1 for u in G.nodes ]\n",
    "    \n",
    "# for each district j\n",
    "for j in range(len(districts)):\n",
    "    \n",
    "    # for each node i in this district\n",
    "    for i in districts[j]:\n",
    "        \n",
    "        # What is its GEOID?\n",
    "        geoID = G.nodes[i][\"GEOID10\"]\n",
    "        \n",
    "        # Need to find this GEOID in the dataframe\n",
    "        for u in G.nodes:\n",
    "            if geoID == df['GEOID10'][u]: # Found it\n",
    "                assignment[u] = j # Node u from the dataframe should be assigned to district j\n",
    "\n",
    "# Now add the assignments to a column of the dataframe and map it\n",
    "df['assignment'] = assignment\n",
    "my_fig = df.plot(column='assignment').get_figure()"
   ]
  },
  {
   "cell_type": "code",
   "execution_count": null,
   "metadata": {},
   "outputs": [],
   "source": []
  }
 ],
 "metadata": {
  "kernelspec": {
   "display_name": "Python 3",
   "language": "python",
   "name": "python3"
  },
  "language_info": {
   "codemirror_mode": {
    "name": "ipython",
    "version": 3
   },
   "file_extension": ".py",
   "mimetype": "text/x-python",
   "name": "python",
   "nbconvert_exporter": "python",
   "pygments_lexer": "ipython3",
   "version": "3.8.5"
  }
 },
 "nbformat": 4,
 "nbformat_minor": 4
}
