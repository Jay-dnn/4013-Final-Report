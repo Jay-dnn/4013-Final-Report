{
 "cells": [
  {
   "cell_type": "code",
   "execution_count": 1,
   "metadata": {},
   "outputs": [],
   "source": [
    "from gerrychain import Graph"
   ]
  },
  {
   "cell_type": "code",
   "execution_count": 2,
   "metadata": {},
   "outputs": [],
   "source": [
    "# Read Nebraska county graph from the json file \"NE.county.json\"\n",
    "filepath = 'C:\\\\Users\\\\jayde\\\\Downloads\\\\'\n",
    "filename = 'NE.county.json'\n",
    "\n",
    "# GerryChain has a built-in function for reading graphs of this type:\n",
    "G = Graph.from_json( filepath + filename )"
   ]
  },
  {
   "cell_type": "code",
   "execution_count": 3,
   "metadata": {},
   "outputs": [
    {
     "name": "stdout",
     "output_type": "stream",
     "text": [
      "Node 0 is Burt County, which has population 6858 and is centered at ( -96.32860449772537 , 41.85156318148134 )\n",
      "Node 1 is Dawson County, which has population 24326 and is centered at ( -99.81956570716875 , 40.86993611068622 )\n",
      "Node 2 is Saunders County, which has population 20780 and is centered at ( -96.6374006543078 , 41.226370418187614 )\n",
      "Node 3 is Thomas County, which has population 647 and is centered at ( -100.55585615683412 , 41.913506481234435 )\n",
      "Node 4 is Antelope County, which has population 6685 and is centered at ( -98.06668529710544 , 42.17690346329143 )\n",
      "Node 5 is Garfield County, which has population 2049 and is centered at ( -98.99138528755952 , 41.91435706851506 )\n",
      "Node 6 is Sioux County, which has population 1311 and is centered at ( -103.7588786141739 , 42.487713959328204 )\n",
      "Node 7 is Deuel County, which has population 1941 and is centered at ( -102.33394994226863 , 41.11159782186433 )\n",
      "Node 8 is Pawnee County, which has population 2773 and is centered at ( -96.23705517889833 , 40.13154287331576 )\n",
      "Node 9 is Boyd County, which has population 2099 and is centered at ( -98.7664656432201 , 42.899684895097394 )\n",
      "Node 10 is Thayer County, which has population 5228 and is centered at ( -97.59491959782709 , 40.17628561570776 )\n",
      "Node 11 is Hitchcock County, which has population 2908 and is centered at ( -101.04227242010349 , 40.17634692185516 )\n",
      "Node 12 is Banner County, which has population 690 and is centered at ( -103.71047669295156 , 41.545974704067554 )\n",
      "Node 13 is Furnas County, which has population 4959 and is centered at ( -99.91227328336957 , 40.176465901209376 )\n",
      "Node 14 is Clay County, which has population 6542 and is centered at ( -98.05128424486084 , 40.52443226189823 )\n",
      "Node 15 is Merrick County, which has population 7845 and is centered at ( -98.03765422809008 , 41.16981660512411 )\n",
      "Node 16 is Brown County, which has population 3145 and is centered at ( -99.92950244556498 , 42.43002051712295 )\n",
      "Node 17 is Colfax County, which has population 10515 and is centered at ( -97.08646475547266 , 41.574021867673906 )\n",
      "Node 18 is Dakota County, which has population 21006 and is centered at ( -96.56451301620335 , 42.39111182098192 )\n",
      "Node 19 is Arthur County, which has population 460 and is centered at ( -101.695910708466 , 41.568903180069 )\n",
      "Node 20 is Sheridan County, which has population 5469 and is centered at ( -102.40896355629229 , 42.504773041132125 )\n",
      "Node 21 is Seward County, which has population 16750 and is centered at ( -97.13950973099534 , 40.87238583787775 )\n",
      "Node 22 is Wayne County, which has population 9595 and is centered at ( -97.11926026904017 , 42.20928855969574 )\n",
      "Node 23 is Cuming County, which has population 9139 and is centered at ( -96.78740041997146 , 41.916402815828725 )\n",
      "Node 24 is Garden County, which has population 2057 and is centered at ( -102.33543828874923 , 41.619431410740376 )\n",
      "Node 25 is Keith County, which has population 8368 and is centered at ( -101.66135120384585 , 41.19879316158481 )\n",
      "Node 26 is Thurston County, which has population 6940 and is centered at ( -96.54409720670905 , 42.15818605794213 )\n",
      "Node 27 is Pierce County, which has population 7266 and is centered at ( -97.60129052258482 , 42.26437462108634 )\n",
      "Node 28 is Richardson County, which has population 8363 and is centered at ( -95.7175311241322 , 40.125064113123415 )\n",
      "Node 29 is Saline County, which has population 14200 and is centered at ( -97.14090869051464 , 40.5240610732141 )\n",
      "Node 30 is Sherman County, which has population 3152 and is centered at ( -98.97620700955234 , 41.22059055844301 )\n",
      "Node 31 is Dundy County, which has population 2008 and is centered at ( -101.6879613902828 , 40.1762352497372 )\n",
      "Node 32 is Stanton County, which has population 6129 and is centered at ( -97.1939150022437 , 41.91692373236484 )\n",
      "Node 33 is Cheyenne County, which has population 9998 and is centered at ( -102.99497875286487 , 41.21977903849782 )\n",
      "Node 34 is Box Butte County, which has population 11308 and is centered at ( -103.08568191939348 , 42.219767248272596 )\n",
      "Node 35 is Wheeler County, which has population 818 and is centered at ( -98.52818600987736 , 41.91477028070565 )\n",
      "Node 36 is Jefferson County, which has population 7547 and is centered at ( -97.1427144887543 , 40.175761751009205 )\n",
      "Node 37 is Otoe County, which has population 15740 and is centered at ( -96.13477541201523 , 40.648500993903475 )\n",
      "Node 38 is Lincoln County, which has population 36288 and is centered at ( -100.74523383335641 , 41.047767508211734 )\n",
      "Node 39 is Hooker County, which has population 736 and is centered at ( -101.13533461657411 , 41.91591259880957 )\n",
      "Node 40 is Red Willow County, which has population 11055 and is centered at ( -100.47686485309507 , 40.17583049516558 )\n",
      "Node 41 is Grant County, which has population 614 and is centered at ( -101.74051875783613 , 41.91499370692245 )\n",
      "Node 42 is Dodge County, which has population 36691 and is centered at ( -96.65398354223183 , 41.57788619277808 )\n",
      "Node 43 is Chase County, which has population 3966 and is centered at ( -101.69794699293567 , 40.52419575649993 )\n",
      "Node 44 is Sarpy County, which has population 158840 and is centered at ( -96.1119916085111 , 41.11292700508451 )\n",
      "Node 45 is Scotts Bluff County, which has population 36970 and is centered at ( -103.70794665949418 , 41.85060754334845 )\n",
      "Node 46 is Washington County, which has population 20234 and is centered at ( -96.22202950404697 , 41.53103831701427 )\n",
      "Node 47 is Greeley County, which has population 2538 and is centered at ( -98.52124453594719 , 41.56744027371153 )\n",
      "Node 48 is Webster County, which has population 3812 and is centered at ( -98.49994737944364 , 40.17643320794768 )\n",
      "Node 49 is Douglas County, which has population 517110 and is centered at ( -96.15447961475103 , 41.29535153976605 )\n",
      "Node 50 is Cass County, which has population 25241 and is centered at ( -96.14086629964613 , 40.909721617555995 )\n",
      "Node 51 is Cherry County, which has population 5713 and is centered at ( -101.11857711652718 , 42.54493327441241 )\n",
      "Node 52 is Boone County, which has population 5505 and is centered at ( -98.06725552177076 , 41.70678474035409 )\n",
      "Node 53 is Johnson County, which has population 5217 and is centered at ( -96.26509688785413 , 40.39263156074438 )\n",
      "Node 54 is Dawes County, which has population 9182 and is centered at ( -103.13543809897341 , 42.719722198746325 )\n",
      "Node 55 is Frontier County, which has population 2756 and is centered at ( -100.39420261413385 , 40.53008320277037 )\n",
      "Node 56 is Nuckolls County, which has population 4500 and is centered at ( -98.0471849893661 , 40.17637963324514 )\n",
      "Node 57 is Kearney County, which has population 6489 and is centered at ( -98.94802162481915 , 40.50670727644772 )\n",
      "Node 58 is Dixon County, which has population 6000 and is centered at ( -96.86774598391858 , 42.49318662247225 )\n",
      "Node 59 is Howard County, which has population 6274 and is centered at ( -98.51709463787452 , 41.22003861301932 )\n",
      "Node 60 is Keya Paha County, which has population 824 and is centered at ( -99.71235219294942 , 42.87882892359827 )\n",
      "Node 61 is Logan County, which has population 763 and is centered at ( -100.4828614468659 , 41.56648624128459 )\n",
      "Node 62 is Cedar County, which has population 8852 and is centered at ( -97.25240100271647 , 42.599261920621394 )\n",
      "Node 63 is Loup County, which has population 632 and is centered at ( -99.45442044274472 , 41.913846999608964 )\n",
      "Node 64 is Polk County, which has population 5406 and is centered at ( -97.56842112325447 , 41.186896884773496 )\n",
      "Node 65 is Blaine County, which has population 478 and is centered at ( -99.97690963355093 , 41.91275904091597 )\n",
      "Node 66 is Kimball County, which has population 3821 and is centered at ( -103.7149499174591 , 41.19765666101419 )\n",
      "Node 67 is Gosper County, which has population 2044 and is centered at ( -99.83070428999362 , 40.514820530998776 )\n",
      "Node 68 is Harlan County, which has population 3423 and is centered at ( -99.40464423696307 , 40.1764958689718 )\n",
      "Node 69 is Phelps County, which has population 9188 and is centered at ( -99.41454289297086 , 40.51111305851349 )\n",
      "Node 70 is Hamilton County, which has population 9124 and is centered at ( -98.02322903227291 , 40.873563018490145 )\n",
      "Node 71 is Butler County, which has population 8395 and is centered at ( -97.13176885899102 , 41.22607745960056 )\n",
      "Node 72 is Knox County, which has population 8701 and is centered at ( -97.89189671679094 , 42.63678148295 )\n",
      "Node 73 is Nemaha County, which has population 7248 and is centered at ( -95.84981604763497 , 40.38765485883654 )\n",
      "Node 74 is Morrill County, which has population 5042 and is centered at ( -103.01054876747106 , 41.715999649847895 )\n",
      "Node 75 is Hall County, which has population 58607 and is centered at ( -98.50217401731314 , 40.872571488883594 )\n",
      "Node 76 is Valley County, which has population 4260 and is centered at ( -98.98190221797195 , 41.56730584778975 )\n",
      "Node 77 is Madison County, which has population 34876 and is centered at ( -97.60077908477079 , 41.91669808778362 )\n",
      "Node 78 is Franklin County, which has population 3225 and is centered at ( -98.95279627014651 , 40.17634487745739 )\n",
      "Node 79 is Nance County, which has population 3735 and is centered at ( -97.99225094608359 , 41.39730225457049 )\n",
      "Node 80 is Hayes County, which has population 967 and is centered at ( -101.06184391983275 , 40.524782361898865 )\n",
      "Node 81 is Gage County, which has population 22311 and is centered at ( -96.68944092238675 , 40.26192972025931 )\n",
      "Node 82 is York County, which has population 13665 and is centered at ( -97.59710686604578 , 40.87274579784572 )\n",
      "Node 83 is McPherson County, which has population 539 and is centered at ( -101.06053042935191 , 41.56808446129747 )\n",
      "Node 84 is Perkins County, which has population 2970 and is centered at ( -101.64961326194938 , 40.85094141271242 )\n",
      "Node 85 is Rock County, which has population 1526 and is centered at ( -99.44992590511859 , 42.42128821802694 )\n",
      "Node 86 is Lancaster County, which has population 285407 and is centered at ( -96.68775524215103 , 40.784173868741085 )\n",
      "Node 87 is Adams County, which has population 31364 and is centered at ( -98.50120894722629 , 40.524468691947334 )\n",
      "Node 88 is Holt County, which has population 10435 and is centered at ( -98.78384466559494 , 42.455710952563294 )\n",
      "Node 89 is Platte County, which has population 32237 and is centered at ( -97.52115699532749 , 41.571286774236306 )\n",
      "Node 90 is Fillmore County, which has population 5890 and is centered at ( -97.59650143231724 , 40.524666123507835 )\n",
      "Node 91 is Custer County, which has population 10939 and is centered at ( -99.72614382147749 , 41.39426401692926 )\n",
      "Node 92 is Buffalo County, which has population 46102 and is centered at ( -99.07496620838006 , 40.85515248943589 )\n"
     ]
    }
   ],
   "source": [
    "# For each node, print the node #, county name, and its population\n",
    "for node in G.nodes:\n",
    "    name = G.nodes[node][\"NAME10\"]\n",
    "    population = G.nodes[node]['TOTPOP']\n",
    "    x_coordinate = G.nodes[node]['C_X']\n",
    "    y_coordinate = G.nodes[node]['C_Y']\n",
    "    print(\"Node\",node,\"is\",name,\"County, which has population\",population,\"and is centered at (\",x_coordinate,\",\",y_coordinate,\")\")"
   ]
  },
  {
   "cell_type": "code",
   "execution_count": 5,
   "metadata": {},
   "outputs": [],
   "source": [
    "from geopy.distance import geodesic"
   ]
  },
  {
   "cell_type": "code",
   "execution_count": 6,
   "metadata": {},
   "outputs": [],
   "source": [
    "# create distance dictionary\n",
    "dist = dict()\n",
    "for i in G.nodes:\n",
    "    for j in G.nodes:\n",
    "        loc_i = ( G.nodes[i]['C_Y'],  G.nodes[i]['C_X'] )\n",
    "        loc_j = ( G.nodes[j]['C_Y'],  G.nodes[j]['C_X'] )\n",
    "        dist[i,j] = geodesic(loc_i,loc_j).miles\n"
   ]
  },
  {
   "cell_type": "code",
   "execution_count": 7,
   "metadata": {},
   "outputs": [
    {
     "name": "stdout",
     "output_type": "stream",
     "text": [
      "Burt -> Dawson: 100.36248360879618\n"
     ]
    }
   ],
   "source": [
    "# check the dictionary by printing the Burt County -> Dawson County distance\n",
    "print(\"Burt -> Dawson:\",dist[0,15])"
   ]
  },
  {
   "cell_type": "code",
   "execution_count": 8,
   "metadata": {},
   "outputs": [
    {
     "name": "stdout",
     "output_type": "stream",
     "text": [
      "Using L = 605737 and U = 611824 and k = 3\n"
     ]
    }
   ],
   "source": [
    "# Let's impose a 1% population deviation (+/- 0.5%)\n",
    "deviation = 0.01\n",
    "\n",
    "import math\n",
    "k = 3          # number of districts\n",
    "total_population = sum(G.nodes[node]['TOTPOP'] for node in G.nodes)\n",
    "\n",
    "L = math.ceil((1-deviation/2)*total_population/k)\n",
    "U = math.floor((1+deviation/2)*total_population/k)\n",
    "print(\"Using L =\",L,\"and U =\",U,\"and k =\",k)"
   ]
  },
  {
   "cell_type": "code",
   "execution_count": 9,
   "metadata": {},
   "outputs": [
    {
     "name": "stdout",
     "output_type": "stream",
     "text": [
      "Academic license - for non-commercial use only - expires 2021-06-22\n",
      "Using license file C:\\Users\\jayde\\gurobi.lic\n"
     ]
    }
   ],
   "source": [
    "\n",
    "import gurobipy as gp\n",
    "from gurobipy import GRB\n",
    "\n",
    "# create model \n",
    "m = gp.Model()\n",
    "\n",
    "# create x[i,j] variable which equals one when county i \n",
    "#    is assigned to (the district centered at) county j\n",
    "x = m.addVars(G.nodes, G.nodes, vtype=GRB.BINARY)"
   ]
  },
  {
   "cell_type": "code",
   "execution_count": 10,
   "metadata": {},
   "outputs": [],
   "source": [
    "\n",
    "# objective is to minimize the moment of inertia: d^2 * p * x\n",
    "m.setObjective( gp.quicksum( dist[i,j]*dist[i,j]*G.nodes[i]['TOTPOP']*x[i,j] for i in G.nodes for j in G.nodes), GRB.MINIMIZE )"
   ]
  },
  {
   "cell_type": "code",
   "execution_count": 11,
   "metadata": {},
   "outputs": [],
   "source": [
    "# add constraints saying that each county i is assigned to one district\n",
    "m.addConstrs( gp.quicksum(x[i,j] for j in G.nodes) == 1 for i in G.nodes)\n",
    "\n",
    "# add constraint saying there should be k district centers\n",
    "m.addConstr( gp.quicksum( x[j,j] for j in G.nodes ) == k )\n",
    "\n",
    "# add constraints that say: if j roots a district, then its population is between L and U.\n",
    "m.addConstrs( gp.quicksum( G.nodes[i]['TOTPOP'] * x[i,j] for i in G.nodes) >= L * x[j,j] for j in G.nodes )\n",
    "m.addConstrs( gp.quicksum( G.nodes[i]['TOTPOP'] * x[i,j] for i in G.nodes) <= U * x[j,j] for j in G.nodes )\n",
    "\n",
    "# add coupling constraints saying that if i is assigned to j, then j is a center.\n",
    "m.addConstrs( x[i,j] <= x[j,j] for i in G.nodes for j in G.nodes )\n",
    "\n",
    "m.update()"
   ]
  },
  {
   "cell_type": "code",
   "execution_count": 12,
   "metadata": {},
   "outputs": [],
   "source": [
    "# Add contiguity constraints\n",
    "\n",
    "import networkx as nx\n",
    "DG = nx.DiGraph(G)\n",
    "\n",
    "# Add variable f[j,u,v] which equals the amount of flow (originally from j) that is sent across arc (u,v)\n",
    "f = m.addVars( DG.nodes, DG.edges, vtype=GRB.CONTINUOUS)\n",
    "M = DG.number_of_nodes()-1\n",
    "\n",
    "# Add constraint saying that node j cannot receive flow of its own type\n",
    "m.addConstrs( gp.quicksum( f[j,u,j] for u in DG.neighbors(j) ) == 0 for j in DG.nodes )\n",
    "\n",
    "# Add constraints saying that node i can receive flow of type j only if i is assigned to j\n",
    "m.addConstrs( gp.quicksum( f[j,u,i] for u in DG.neighbors(i)) <= M * x[i,j] for i in DG.nodes for j in DG.nodes if i != j )\n",
    "\n",
    "# If i is assigned to j, then i should consume one unit of j flow. \n",
    "#    Otherwise, i should consume no units of j flow.\n",
    "m.addConstrs( gp.quicksum( f[j,u,i] - f[j,i,u] for u in DG.neighbors(i)) == x[i,j] for i in DG.nodes for j in DG.nodes if i != j )\n",
    "\n",
    "m.update()"
   ]
  },
  {
   "cell_type": "code",
   "execution_count": 13,
   "metadata": {},
   "outputs": [
    {
     "name": "stdout",
     "output_type": "stream",
     "text": [
      "Changed value of parameter MIPGap to 0.0\n",
      "   Prev: 0.0001  Min: 0.0  Max: inf  Default: 0.0001\n",
      "Gurobi Optimizer version 9.1.2 build v9.1.2rc0 (win64)\n",
      "Thread count: 6 physical cores, 12 logical processors, using up to 12 threads\n",
      "Optimize a model with 26134 rows, 51615 columns and 188238 nonzeros\n",
      "Model fingerprint: 0x2edacbdc\n",
      "Variable types: 42966 continuous, 8649 integer (8649 binary)\n",
      "Coefficient statistics:\n",
      "  Matrix range     [1e+00, 6e+05]\n",
      "  Objective range  [3e+05, 8e+10]\n",
      "  Bounds range     [1e+00, 1e+00]\n",
      "  RHS range        [1e+00, 3e+00]\n",
      "Warning: Model contains large objective coefficients\n",
      "         Consider reformulating model or setting NumericFocus parameter\n",
      "         to avoid numerical issues.\n",
      "Presolve removed 289 rows and 602 columns\n",
      "Presolve time: 0.57s\n",
      "Presolved: 25845 rows, 51013 columns, 186883 nonzeros\n",
      "Variable types: 42368 continuous, 8645 integer (8645 binary)\n",
      "\n",
      "Deterministic concurrent LP optimizer: primal and dual simplex\n",
      "Showing first log only...\n",
      "\n",
      "Concurrent spin time: 0.00s\n",
      "\n",
      "Solved with dual simplex\n",
      "\n",
      "Root relaxation: objective 8.483149e+09, 4506 iterations, 1.28 seconds\n",
      "\n",
      "    Nodes    |    Current Node    |     Objective Bounds      |     Work\n",
      " Expl Unexpl |  Obj  Depth IntInf | Incumbent    BestBd   Gap | It/Node Time\n",
      "\n",
      "     0     0 8.4831e+09    0    4          - 8.4831e+09      -     -    2s\n",
      "H    0     0                    8.640008e+09 8.4831e+09  1.82%     -    2s\n",
      "H    0     0                    8.614485e+09 8.4831e+09  1.52%     -    2s\n",
      "H    0     0                    8.571582e+09 8.4831e+09  1.03%     -    3s\n",
      "     0     0 8.5076e+09    0    8 8.5716e+09 8.5076e+09  0.75%     -    3s\n",
      "     0     0 8.5076e+09    0    4 8.5716e+09 8.5076e+09  0.75%     -    3s\n",
      "     0     0 8.5076e+09    0    3 8.5716e+09 8.5076e+09  0.75%     -    3s\n",
      "     0     0 8.5076e+09    0    4 8.5716e+09 8.5076e+09  0.75%     -    3s\n",
      "     0     0 8.5076e+09    0    9 8.5716e+09 8.5076e+09  0.75%     -    3s\n",
      "     0     0 8.5076e+09    0    7 8.5716e+09 8.5076e+09  0.75%     -    3s\n",
      "     0     0 8.5091e+09    0   11 8.5716e+09 8.5091e+09  0.73%     -    3s\n",
      "     0     0 8.5288e+09    0   11 8.5716e+09 8.5288e+09  0.50%     -    3s\n",
      "     0     0 8.5335e+09    0    9 8.5716e+09 8.5335e+09  0.44%     -    3s\n",
      "     0     0 8.5358e+09    0   11 8.5716e+09 8.5358e+09  0.42%     -    3s\n",
      "\n",
      "Cutting planes:\n",
      "  Gomory: 1\n",
      "  Cover: 3\n",
      "  Implied bound: 1\n",
      "  MIR: 9\n",
      "  StrongCG: 3\n",
      "  Flow cover: 15\n",
      "  Network: 2\n",
      "  RLT: 3\n",
      "\n",
      "Explored 1 nodes (4934 simplex iterations) in 3.64 seconds\n",
      "Thread count was 12 (of 12 available processors)\n",
      "\n",
      "Solution count 3: 8.57158e+09 8.61449e+09 8.64001e+09 \n",
      "\n",
      "Optimal solution found (tolerance 0.00e+00)\n",
      "Best objective 8.571582443076e+09, best bound 8.571582443076e+09, gap 0.0000%\n"
     ]
    }
   ],
   "source": [
    "# solve, making sure to set a 0.00% MIP gap tolerance(!)\n",
    "m.Params.MIPGap = 0.0\n",
    "m.optimize()"
   ]
  },
  {
   "cell_type": "code",
   "execution_count": 14,
   "metadata": {},
   "outputs": [
    {
     "name": "stdout",
     "output_type": "stream",
     "text": [
      "The moment of inertia objective is 8571582443.075673\n",
      "District 0 has population 608839 and contains counties ['Burt', 'Dakota', 'Thurston', 'Dodge', 'Washington', 'Douglas']\n",
      "District 1 has population 609327 and contains counties ['Saunders', 'Pawnee', 'Colfax', 'Seward', 'Richardson', 'Saline', 'Jefferson', 'Otoe', 'Sarpy', 'Cass', 'Johnson', 'Butler', 'Nemaha', 'Gage', 'Lancaster']\n",
      "District 2 has population 608175 and contains counties ['Dawson', 'Thomas', 'Antelope', 'Garfield', 'Sioux', 'Deuel', 'Boyd', 'Thayer', 'Hitchcock', 'Banner', 'Furnas', 'Clay', 'Merrick', 'Brown', 'Arthur', 'Sheridan', 'Wayne', 'Cuming', 'Garden', 'Keith', 'Pierce', 'Sherman', 'Dundy', 'Stanton', 'Cheyenne', 'Box Butte', 'Wheeler', 'Lincoln', 'Hooker', 'Red Willow', 'Grant', 'Chase', 'Scotts Bluff', 'Greeley', 'Webster', 'Cherry', 'Boone', 'Dawes', 'Frontier', 'Nuckolls', 'Kearney', 'Dixon', 'Howard', 'Keya Paha', 'Logan', 'Cedar', 'Loup', 'Polk', 'Blaine', 'Kimball', 'Gosper', 'Harlan', 'Phelps', 'Hamilton', 'Knox', 'Morrill', 'Hall', 'Valley', 'Madison', 'Franklin', 'Nance', 'Hayes', 'York', 'McPherson', 'Perkins', 'Rock', 'Adams', 'Holt', 'Platte', 'Fillmore', 'Custer', 'Buffalo']\n"
     ]
    }
   ],
   "source": [
    "print(\"The moment of inertia objective is\",m.objval)\n",
    "\n",
    "# retrieve the districts and their populations\n",
    "centers = [j for j in G.nodes if x[j,j].x > 0.5 ]\n",
    "districts = [ [i for i in G.nodes if x[i,j].x > 0.5] for j in centers]\n",
    "district_counties = [ [ G.nodes[i][\"NAME10\"] for i in districts[j] ] for j in range(k)]\n",
    "district_populations = [ sum(G.nodes[i][\"TOTPOP\"] for i in districts[j]) for j in range(k) ]\n",
    "\n",
    "# print district info\n",
    "for j in range(k):\n",
    "    print(\"District\",j,\"has population\",district_populations[j],\"and contains counties\",district_counties[j])"
   ]
  },
  {
   "cell_type": "code",
   "execution_count": 15,
   "metadata": {},
   "outputs": [],
   "source": [
    "\n",
    "# Let's draw it on a map\n",
    "import geopandas as gpd"
   ]
  },
  {
   "cell_type": "code",
   "execution_count": 16,
   "metadata": {},
   "outputs": [],
   "source": [
    "# Read Nebraska county shapefile from \"NE.counties.shp.shp\"\n",
    "filepath = 'C:\\\\Users\\\\jayde\\\\Downloads\\\\'\n",
    "filename = 'NE_counties.shp'\n",
    "\n",
    "# Read geopandas dataframe from file\n",
    "df = gpd.read_file( filepath + filename )"
   ]
  },
  {
   "cell_type": "code",
   "execution_count": 17,
   "metadata": {},
   "outputs": [
    {
     "data": {
      "image/png": "[encoded data removed]",
      "text/plain": [
       "<Figure size 432x288 with 1 Axes>"
      ]
     },
     "metadata": {
      "needs_background": "light"
     },
     "output_type": "display_data"
    }
   ],
   "source": [
    "\n",
    "# Which district is each county assigned to?\n",
    "assignment = [ -1 for u in G.nodes ]\n",
    "    \n",
    "# for each district j\n",
    "for j in range(len(districts)):\n",
    "    \n",
    "    # for each node i in this district\n",
    "    for i in districts[j]:\n",
    "        \n",
    "        # What is its GEOID?\n",
    "        geoID = G.nodes[i][\"GEOID10\"]\n",
    "        \n",
    "        # Need to find this GEOID in the dataframe\n",
    "        for u in G.nodes:\n",
    "            if geoID == df['GEOID10'][u]: # Found it\n",
    "                assignment[u] = j # Node u from the dataframe should be assigned to district j\n",
    "\n",
    "# Now add the assignments to a column of the dataframe and map it\n",
    "df['assignment'] = assignment\n",
    "my_fig = df.plot(column='assignment').get_figure()"
   ]
  },
  {
   "cell_type": "code",
   "execution_count": null,
   "metadata": {},
   "outputs": [],
   "source": []
  }
 ],
 "metadata": {
  "kernelspec": {
   "display_name": "Python 3",
   "language": "python",
   "name": "python3"
  },
  "language_info": {
   "codemirror_mode": {
    "name": "ipython",
    "version": 3
   },
   "file_extension": ".py",
   "mimetype": "text/x-python",
   "name": "python",
   "nbconvert_exporter": "python",
   "pygments_lexer": "ipython3",
   "version": "3.8.5"
  }
 },
 "nbformat": 4,
 "nbformat_minor": 4
}
