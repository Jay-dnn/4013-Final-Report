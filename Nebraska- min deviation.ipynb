{
 "cells": [
  {
   "cell_type": "code",
   "execution_count": 18,
   "metadata": {},
   "outputs": [
    {
     "name": "stdout",
     "output_type": "stream",
     "text": [
      "population =  [6129, 9998, 11308, 818, 7547, 15740, 36288, 736, 11055, 614, 36691, 3966, 158840, 36970, 20234, 2538, 3812, 517110, 25241, 5713, 5505, 5217, 9182, 2756, 4500, 6489, 6000, 6274, 824, 763, 8852, 632, 5406, 478, 3821, 2044, 3423, 9188, 9124, 8395, 10435, 32237, 5890, 10939, 46102, 6858, 24326, 20780, 647, 6685, 2049, 1311, 1941, 2773, 2099, 5228, 2908, 690, 4959, 6542, 7845, 3145, 10515, 21006, 460, 5469, 16750, 9595, 8701, 7248, 5042, 58607, 4260, 34876, 3225, 3735, 967, 22311, 13665, 539, 2970, 1526, 285407, 31364, 9139, 2057, 8368, 6940, 7266, 8363, 14200, 3152, 2008]\n"
     ]
    }
   ],
   "source": [
    "# read the text file \"NE.population\" and store in the list called population\n",
    "population = list()\n",
    "\n",
    "# open the text file for reading\n",
    "filepath = \"C:\\\\Users\\\\jayde\\\\Downloads\\\\\"\n",
    "filename = \"NE.population .Copy.txt\"\n",
    "file = open( filepath + filename ,\"r\")\n",
    "\n",
    "# while the current line is not empty, read in a new county population\n",
    "line = file.readline()\n",
    "\n",
    "\n",
    "while line != \"\":\n",
    "    # split the line into two \"words\": \n",
    "    #    word[0]: the county's number\n",
    "    #    word[1]: the county's population\n",
    "    words = line.split() \n",
    "    county_number = words[0]\n",
    "    county_population = int(words[1]) # cast the string as type int\n",
    "    \n",
    "    # append to population list\n",
    "    population.append(county_population)\n",
    "    \n",
    "    # read next line\n",
    "    line = file.readline() \n",
    "\n",
    "file.close()\n",
    "print(\"population = \",population)"
   ]
  },
  {
   "cell_type": "code",
   "execution_count": 19,
   "metadata": {},
   "outputs": [],
   "source": [
    "# we are to solve the following task:\n",
    "# input: a population vector, desired number of districts k\n",
    "# output: a partition of the populations into k districts (not necessarily connected!) \n",
    "#            to minimize the difference between most and least populated districts\n",
    "\n",
    "import gurobipy as gp\n",
    "from gurobipy import GRB"
   ]
  },
  {
   "cell_type": "code",
   "execution_count": 20,
   "metadata": {},
   "outputs": [
    {
     "name": "stdout",
     "output_type": "stream",
     "text": [
      "Academic license - for non-commercial use only - expires 2021-06-22\n",
      "Using license file C:\\Users\\jayde\\gurobi.lic\n"
     ]
    }
   ],
   "source": [
    "n = len(population) # number of counties\n",
    "k = 3               # desired number of districts\n",
    "\n",
    "# create model \n",
    "m = gp.Model()\n",
    "\n",
    "# create variables\n",
    "x = m.addVars(n,k,vtype=GRB.BINARY) # x_ij equals one when county i is assigned to district j\n",
    "y = m.addVar()                      # the population of least-populated district\n",
    "z = m.addVar()                      # the population of most-populated district"
   ]
  },
  {
   "cell_type": "code",
   "execution_count": 21,
   "metadata": {},
   "outputs": [
    {
     "data": {
      "text/plain": [
       "{0: <gurobi.Constr *Awaiting Model Update*>,\n",
       " 1: <gurobi.Constr *Awaiting Model Update*>,\n",
       " 2: <gurobi.Constr *Awaiting Model Update*>}"
      ]
     },
     "execution_count": 21,
     "metadata": {},
     "output_type": "execute_result"
    }
   ],
   "source": [
    "# objective is to minimize absolute population deviation\n",
    "m.setObjective(z-y,GRB.MINIMIZE)\n",
    "\n",
    "# add constraints saying that each county i is assigned to one district\n",
    "m.addConstrs( sum(x[i,j] for j in range(k)) == 1 for i in range(n) )\n",
    "\n",
    "# add constraints saying that each district has population at least y\n",
    "m.addConstrs( y <= sum( population[i] * x[i,j] for i in range(n) ) for j in range(k) )\n",
    "\n",
    "# add constraints saying that each district has population at most z\n",
    "m.addConstrs( sum( population[i] * x[i,j] for i in range(n)) <= z for j in range(k) )"
   ]
  },
  {
   "cell_type": "code",
   "execution_count": 22,
   "metadata": {},
   "outputs": [
    {
     "name": "stdout",
     "output_type": "stream",
     "text": [
      "Gurobi Optimizer version 9.1.2 build v9.1.2rc0 (win64)\n",
      "Thread count: 6 physical cores, 12 logical processors, using up to 12 threads\n",
      "Optimize a model with 99 rows, 281 columns and 843 nonzeros\n",
      "Model fingerprint: 0x5af52a33\n",
      "Variable types: 2 continuous, 279 integer (279 binary)\n",
      "Coefficient statistics:\n",
      "  Matrix range     [1e+00, 5e+05]\n",
      "  Objective range  [1e+00, 1e+00]\n",
      "  Bounds range     [1e+00, 1e+00]\n",
      "  RHS range        [1e+00, 1e+00]\n",
      "Found heuristic solution: objective 652429.00000\n",
      "Presolve time: 0.00s\n",
      "Presolved: 99 rows, 281 columns, 843 nonzeros\n",
      "Variable types: 0 continuous, 281 integer (279 binary)\n",
      "\n",
      "Root relaxation: objective 0.000000e+00, 89 iterations, 0.00 seconds\n",
      "\n",
      "    Nodes    |    Current Node    |     Objective Bounds      |     Work\n",
      " Expl Unexpl |  Obj  Depth IntInf | Incumbent    BestBd   Gap | It/Node Time\n",
      "\n",
      "     0     0    0.00000    0    6 652429.000    0.00000   100%     -    0s\n",
      "H    0     0                    41278.000000    0.00000   100%     -    0s\n",
      "H    0     0                    1703.0000000    0.00000   100%     -    0s\n",
      "H    0     0                    1036.0000000    0.00000   100%     -    0s\n",
      "H    0     0                     173.0000000    0.00000   100%     -    0s\n",
      "     0     0    0.00000    0    8  173.00000    0.00000   100%     -    0s\n",
      "     0     0    0.33333    0    9  173.00000    0.33333   100%     -    0s\n",
      "H    0     0                     141.0000000    0.33333   100%     -    0s\n",
      "     0     0    0.33333    0   11  141.00000    0.33333   100%     -    0s\n",
      "     0     0    0.33333    0    9  141.00000    0.33333   100%     -    0s\n",
      "     0     0    0.33333    0   11  141.00000    0.33333   100%     -    0s\n",
      "     0     0    0.33333    0    9  141.00000    0.33333   100%     -    0s\n",
      "H    0     0                      69.0000000    0.33333   100%     -    0s\n",
      "H    0     0                      34.0000000    0.33333  99.0%     -    0s\n",
      "     0     0    0.33333    0    9   34.00000    0.33333  99.0%     -    0s\n",
      "     0     0    0.33333    0    7   34.00000    0.33333  99.0%     -    0s\n",
      "H    0     0                      17.0000000    0.33333  98.0%     -    0s\n",
      "     0     0    0.33333    0    9   17.00000    0.33333  98.0%     -    0s\n",
      "     0     0    0.33333    0   12   17.00000    0.33333  98.0%     -    0s\n",
      "     0     0    0.33333    0    5   17.00000    0.33333  98.0%     -    0s\n",
      "H    0     0                       4.0000000    0.33333  91.7%     -    0s\n",
      "     0     2    0.33333    0    5    4.00000    0.33333  91.7%     -    0s\n",
      "H   37    40                       2.0000000    0.33333  83.3%   5.3    0s\n",
      "H 1179  1124                       1.0000000    0.33333  66.7%   2.0    0s\n",
      "\n",
      "Cutting planes:\n",
      "  Cover: 12\n",
      "  RLT: 1\n",
      "\n",
      "Explored 1371 nodes (2944 simplex iterations) in 0.27 seconds\n",
      "Thread count was 12 (of 12 available processors)\n",
      "\n",
      "Solution count 10: 1 2 4 ... 1703\n",
      "\n",
      "Optimal solution found (tolerance 1.00e-04)\n",
      "Best objective 1.000000000000e+00, best bound 1.000000000000e+00, gap 0.0000%\n"
     ]
    }
   ],
   "source": [
    "# solve IP model\n",
    "m.optimize()"
   ]
  },
  {
   "cell_type": "code",
   "execution_count": 23,
   "metadata": {},
   "outputs": [
    {
     "name": "stdout",
     "output_type": "stream",
     "text": [
      "The absolute population deviation is 1.0 person(s).\n",
      "District 0 has population 608780 and contains counties [0, 1, 2, 4, 9, 11, 13, 15, 19, 21, 24, 25, 26, 32, 34, 35, 36, 38, 40, 47, 48, 49, 51, 52, 55, 57, 58, 59, 61, 62, 63, 65, 67, 68, 69, 70, 72, 74, 75, 76, 77, 79, 80, 82, 85, 89, 90]\n",
      "District 1 has population 608781 and contains counties [3, 7, 16, 17, 20, 23, 28, 29, 31, 42, 44, 45, 50, 53, 54, 56, 64, 81, 91, 92]\n",
      "District 2 has population 608780 and contains counties [5, 6, 8, 10, 12, 14, 18, 22, 27, 30, 33, 37, 39, 41, 43, 46, 60, 66, 71, 73, 78, 83, 84, 86, 87, 88]\n"
     ]
    }
   ],
   "source": [
    "# print the absolute population deviation\n",
    "print(\"The absolute population deviation is\",m.objval,\"person(s).\")\n",
    "\n",
    "# retrieve the districts and their populations\n",
    "districts = [ [i for i in range(n) if x[i,j].x > 0.5] for j in range(k)]\n",
    "district_populations = [ sum(population[i] for i in district) for district in districts ]\n",
    "\n",
    "# print district info\n",
    "for j in range(k):\n",
    "    print(\"District\",j,\"has population\",district_populations[j],\"and contains counties\",districts[j])"
   ]
  },
  {
   "cell_type": "code",
   "execution_count": null,
   "metadata": {},
   "outputs": [],
   "source": []
  }
 ],
 "metadata": {
  "kernelspec": {
   "display_name": "Python 3",
   "language": "python",
   "name": "python3"
  },
  "language_info": {
   "codemirror_mode": {
    "name": "ipython",
    "version": 3
   },
   "file_extension": ".py",
   "mimetype": "text/x-python",
   "name": "python",
   "nbconvert_exporter": "python",
   "pygments_lexer": "ipython3",
   "version": "3.8.5"
  }
 },
 "nbformat": 4,
 "nbformat_minor": 4
}
